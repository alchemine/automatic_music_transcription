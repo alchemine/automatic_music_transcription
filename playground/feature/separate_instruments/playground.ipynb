{
 "cells": [
  {
   "cell_type": "code",
   "execution_count": 1,
   "metadata": {},
   "outputs": [],
   "source": [
    "%load_ext autoreload\n",
    "%autoreload 2\n",
    "\n",
    "import pandas as pd\n",
    "\n",
    "from src._utils import *\n",
    "\n",
    "\n",
    "# Pandas settings\n",
    "pd.set_option(\"display.max_rows\", 1000)\n",
    "pd.set_option(\"display.max_columns\", 1000)\n",
    "pd.set_option(\"display.max_colwidth\", 1000)\n",
    "pd.set_option(\"display.width\", 1000)\n",
    "pd.set_option(\"display.float_format\", \"{:.2f}\".format)"
   ]
  },
  {
   "cell_type": "code",
   "execution_count": 2,
   "metadata": {},
   "outputs": [],
   "source": [
    "wav_path = join(DATA_PATH, \"musicnet\", \"train_data\", \"1727.wav\")\n",
    "label_path = join(DATA_PATH, \"musicnet\", \"train_labels\", \"1727.csv\")\n",
    "mid_path = join(DATA_PATH, \"musicnet_midis\", \"Schubert\", \"1727_schubert_op114_2.mid\")\n",
    "metadata_path = join(DATA_PATH, \"musicnet_metadata.csv\")"
   ]
  },
  {
   "cell_type": "code",
   "execution_count": 3,
   "metadata": {},
   "outputs": [],
   "source": [
    "label = pd.read_csv(label_path)\n",
    "metadata = pd.read_csv(metadata_path)"
   ]
  },
  {
   "cell_type": "code",
   "execution_count": 7,
   "metadata": {},
   "outputs": [
    {
     "data": {
      "text/html": [
       "<div>\n",
       "<style scoped>\n",
       "    .dataframe tbody tr th:only-of-type {\n",
       "        vertical-align: middle;\n",
       "    }\n",
       "\n",
       "    .dataframe tbody tr th {\n",
       "        vertical-align: top;\n",
       "    }\n",
       "\n",
       "    .dataframe thead th {\n",
       "        text-align: right;\n",
       "    }\n",
       "</style>\n",
       "<table border=\"1\" class=\"dataframe\">\n",
       "  <thead>\n",
       "    <tr style=\"text-align: right;\">\n",
       "      <th></th>\n",
       "      <th>id</th>\n",
       "      <th>composer</th>\n",
       "      <th>composition</th>\n",
       "      <th>movement</th>\n",
       "      <th>ensemble</th>\n",
       "      <th>source</th>\n",
       "      <th>transcriber</th>\n",
       "      <th>catalog_name</th>\n",
       "      <th>seconds</th>\n",
       "    </tr>\n",
       "  </thead>\n",
       "  <tbody>\n",
       "    <tr>\n",
       "      <th>0</th>\n",
       "      <td>1727</td>\n",
       "      <td>Schubert</td>\n",
       "      <td>Piano Quintet in A major</td>\n",
       "      <td>2. Andante</td>\n",
       "      <td>Piano Quintet</td>\n",
       "      <td>European Archive</td>\n",
       "      <td>http://tirolmusic.blogspot.com/</td>\n",
       "      <td>OP114</td>\n",
       "      <td>447</td>\n",
       "    </tr>\n",
       "    <tr>\n",
       "      <th>1</th>\n",
       "      <td>1728</td>\n",
       "      <td>Schubert</td>\n",
       "      <td>Piano Quintet in A major</td>\n",
       "      <td>3. Scherzo: Presto</td>\n",
       "      <td>Piano Quintet</td>\n",
       "      <td>European Archive</td>\n",
       "      <td>http://tirolmusic.blogspot.com/</td>\n",
       "      <td>OP114</td>\n",
       "      <td>251</td>\n",
       "    </tr>\n",
       "    <tr>\n",
       "      <th>2</th>\n",
       "      <td>1729</td>\n",
       "      <td>Schubert</td>\n",
       "      <td>Piano Quintet in A major</td>\n",
       "      <td>4. Andantino - Allegretto</td>\n",
       "      <td>Piano Quintet</td>\n",
       "      <td>European Archive</td>\n",
       "      <td>http://tirolmusic.blogspot.com/</td>\n",
       "      <td>OP114</td>\n",
       "      <td>444</td>\n",
       "    </tr>\n",
       "    <tr>\n",
       "      <th>3</th>\n",
       "      <td>1730</td>\n",
       "      <td>Schubert</td>\n",
       "      <td>Piano Quintet in A major</td>\n",
       "      <td>5. Allegro giusto</td>\n",
       "      <td>Piano Quintet</td>\n",
       "      <td>European Archive</td>\n",
       "      <td>http://tirolmusic.blogspot.com/</td>\n",
       "      <td>OP114</td>\n",
       "      <td>368</td>\n",
       "    </tr>\n",
       "    <tr>\n",
       "      <th>4</th>\n",
       "      <td>1733</td>\n",
       "      <td>Schubert</td>\n",
       "      <td>Piano Sonata in A major</td>\n",
       "      <td>2. Andantino</td>\n",
       "      <td>Solo Piano</td>\n",
       "      <td>Museopen</td>\n",
       "      <td>Segundo G. Yogore</td>\n",
       "      <td>D959</td>\n",
       "      <td>546</td>\n",
       "    </tr>\n",
       "  </tbody>\n",
       "</table>\n",
       "</div>"
      ],
      "text/plain": [
       "     id  composer               composition                   movement       ensemble            source                      transcriber catalog_name  seconds\n",
       "0  1727  Schubert  Piano Quintet in A major                 2. Andante  Piano Quintet  European Archive  http://tirolmusic.blogspot.com/        OP114      447\n",
       "1  1728  Schubert  Piano Quintet in A major         3. Scherzo: Presto  Piano Quintet  European Archive  http://tirolmusic.blogspot.com/        OP114      251\n",
       "2  1729  Schubert  Piano Quintet in A major  4. Andantino - Allegretto  Piano Quintet  European Archive  http://tirolmusic.blogspot.com/        OP114      444\n",
       "3  1730  Schubert  Piano Quintet in A major          5. Allegro giusto  Piano Quintet  European Archive  http://tirolmusic.blogspot.com/        OP114      368\n",
       "4  1733  Schubert   Piano Sonata in A major               2. Andantino     Solo Piano          Museopen                Segundo G. Yogore         D959      546"
      ]
     },
     "execution_count": 7,
     "metadata": {},
     "output_type": "execute_result"
    }
   ],
   "source": [
    "metadata.head()"
   ]
  },
  {
   "cell_type": "code",
   "execution_count": 4,
   "metadata": {},
   "outputs": [],
   "source": [
    "from mido import Message, MidiFile, MidiTrack, MetaMessage, bpm2tempo, tempo2bpm\n",
    "\n",
    "\n",
    "original_midi = MidiFile(mid_path)\n",
    "track: MidiTrack = original_midi.tracks[0]"
   ]
  },
  {
   "cell_type": "code",
   "execution_count": 21,
   "metadata": {},
   "outputs": [
    {
     "data": {
      "text/plain": [
       "defaultdict(list,\n",
       "            {'Piano Quintett A major Op.114/D.667 \"Trout\" 2nd moviment F.Schubert': [0],\n",
       "             'Setup': [1],\n",
       "             'Violin': [2],\n",
       "             'Viola': [3],\n",
       "             'Cello': [4],\n",
       "             'Contrabass': [5],\n",
       "             'Pianoforte': [6],\n",
       "             '': [7, 8, 9, 10, 12, 13, 14, 15, 16, 17],\n",
       "             'Rhythm': [11]})"
      ]
     },
     "execution_count": 21,
     "metadata": {},
     "output_type": "execute_result"
    }
   ],
   "source": [
    "from collections import defaultdict\n",
    "\n",
    "import pandas as pd\n",
    "from mido import Message, MidiFile, MidiTrack, MetaMessage, bpm2tempo, tempo2bpm\n",
    "\n",
    "\n",
    "original_midi = MidiFile(mid_path)\n",
    "track_idxs = defaultdict(list)\n",
    "for idx, track in enumerate(original_midi.tracks):\n",
    "    name = track[0].name\n",
    "    track_idxs[name].append(idx)\n",
    "track_idxs"
   ]
  },
  {
   "cell_type": "code",
   "execution_count": 20,
   "metadata": {},
   "outputs": [
    {
     "data": {
      "text/plain": [
       "[Instrument(program=40, is_drum=False, name=\"Violin\"),\n",
       " Instrument(program=41, is_drum=False, name=\"Viola\"),\n",
       " Instrument(program=42, is_drum=False, name=\"Cello\"),\n",
       " Instrument(program=43, is_drum=False, name=\"Contrabass\"),\n",
       " Instrument(program=0, is_drum=False, name=\"Pianoforte\")]"
      ]
     },
     "execution_count": 20,
     "metadata": {},
     "output_type": "execute_result"
    }
   ],
   "source": [
    "import pretty_midi\n",
    "\n",
    "midi_data = pretty_midi.PrettyMIDI(mid_path)\n",
    "midi_data.instruments"
   ]
  }
 ],
 "metadata": {
  "kernelspec": {
   "display_name": "amt",
   "language": "python",
   "name": "python3"
  },
  "language_info": {
   "codemirror_mode": {
    "name": "ipython",
    "version": 3
   },
   "file_extension": ".py",
   "mimetype": "text/x-python",
   "name": "python",
   "nbconvert_exporter": "python",
   "pygments_lexer": "ipython3",
   "version": "3.12.5"
  }
 },
 "nbformat": 4,
 "nbformat_minor": 2
}
