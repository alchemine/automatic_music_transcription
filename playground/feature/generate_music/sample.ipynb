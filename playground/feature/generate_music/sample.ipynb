{
 "cells": [
  {
   "cell_type": "code",
   "execution_count": 5,
   "metadata": {},
   "outputs": [
    {
     "name": "stdout",
     "output_type": "stream",
     "text": [
      "\n",
      "Generating and playing sound for Acoustic Grand Piano...\n",
      "FluidSynth runtime version 2.3.6\n",
      "Copyright (C) 2000-2024 Peter Hanappe and others.\n",
      "Distributed under the LGPL license.\n",
      "SoundFont(R) is a registered trademark of Creative Technology Ltd.\n",
      "\n",
      "Rendering audio to file 'temp_Acoustic_Grand_Piano.wav'..\n",
      "Playing Acoustic Grand Piano sound...\n"
     ]
    },
    {
     "name": "stderr",
     "output_type": "stream",
     "text": [
      "fluidsynth: panic: An error occurred while reading from stdin.\n",
      "fluidsynth: panic: An error occurred while reading from stdin.\n"
     ]
    },
    {
     "name": "stdout",
     "output_type": "stream",
     "text": [
      "\n",
      "Generating and playing sound for Electric Guitar (clean)...\n",
      "FluidSynth runtime version 2.3.6\n",
      "Copyright (C) 2000-2024 Peter Hanappe and others.\n",
      "Distributed under the LGPL license.\n",
      "SoundFont(R) is a registered trademark of Creative Technology Ltd.\n",
      "\n",
      "Rendering audio to file 'temp_Electric_Guitar_(clean).wav'..\n",
      "Playing Electric Guitar (clean) sound...\n"
     ]
    },
    {
     "name": "stderr",
     "output_type": "stream",
     "text": [
      "fluidsynth: panic: An error occurred while reading from stdin.\n",
      "fluidsynth: panic: An error occurred while reading from stdin.\n"
     ]
    },
    {
     "ename": "KeyboardInterrupt",
     "evalue": "",
     "output_type": "error",
     "traceback": [
      "\u001b[0;31m---------------------------------------------------------------------------\u001b[0m",
      "\u001b[0;31mKeyboardInterrupt\u001b[0m                         Traceback (most recent call last)",
      "Cell \u001b[0;32mIn[5], line 92\u001b[0m\n\u001b[1;32m     88\u001b[0m         \u001b[38;5;28minput\u001b[39m(\u001b[38;5;124m\"\u001b[39m\u001b[38;5;124mPress Enter to continue to the next instrument...\u001b[39m\u001b[38;5;124m\"\u001b[39m)\n\u001b[1;32m     91\u001b[0m \u001b[38;5;66;03m# Run the instrument sound check\u001b[39;00m\n\u001b[0;32m---> 92\u001b[0m \u001b[43mcheck_instrument_sounds\u001b[49m\u001b[43m(\u001b[49m\u001b[43m)\u001b[49m\n",
      "Cell \u001b[0;32mIn[5], line 83\u001b[0m, in \u001b[0;36mcheck_instrument_sounds\u001b[0;34m()\u001b[0m\n\u001b[1;32m     80\u001b[0m midi_to_wav(midi_file, wav_file)\n\u001b[1;32m     82\u001b[0m \u001b[38;5;28mprint\u001b[39m(\u001b[38;5;124mf\u001b[39m\u001b[38;5;124m\"\u001b[39m\u001b[38;5;124mPlaying \u001b[39m\u001b[38;5;132;01m{\u001b[39;00minstrument_name\u001b[38;5;132;01m}\u001b[39;00m\u001b[38;5;124m sound...\u001b[39m\u001b[38;5;124m\"\u001b[39m)\n\u001b[0;32m---> 83\u001b[0m \u001b[43mplay_audio\u001b[49m\u001b[43m(\u001b[49m\u001b[43mwav_file\u001b[49m\u001b[43m)\u001b[49m\n\u001b[1;32m     85\u001b[0m os\u001b[38;5;241m.\u001b[39mremove(midi_file)\n\u001b[1;32m     86\u001b[0m os\u001b[38;5;241m.\u001b[39mremove(wav_file)\n",
      "Cell \u001b[0;32mIn[5], line 62\u001b[0m, in \u001b[0;36mplay_audio\u001b[0;34m(file_path)\u001b[0m\n\u001b[1;32m     60\u001b[0m data, fs \u001b[38;5;241m=\u001b[39m sf\u001b[38;5;241m.\u001b[39mread(file_path, dtype\u001b[38;5;241m=\u001b[39m\u001b[38;5;124m\"\u001b[39m\u001b[38;5;124mfloat32\u001b[39m\u001b[38;5;124m\"\u001b[39m)\n\u001b[1;32m     61\u001b[0m sd\u001b[38;5;241m.\u001b[39mplay(data, fs)\n\u001b[0;32m---> 62\u001b[0m \u001b[43msd\u001b[49m\u001b[38;5;241;43m.\u001b[39;49m\u001b[43mwait\u001b[49m\u001b[43m(\u001b[49m\u001b[43m)\u001b[49m\n",
      "File \u001b[0;32m/opt/miniconda3/envs/amt/lib/python3.12/site-packages/sounddevice.py:395\u001b[0m, in \u001b[0;36mwait\u001b[0;34m(ignore_errors)\u001b[0m\n\u001b[1;32m    379\u001b[0m \u001b[38;5;250m\u001b[39m\u001b[38;5;124;03m\"\"\"Wait for `play()`/`rec()`/`playrec()` to be finished.\u001b[39;00m\n\u001b[1;32m    380\u001b[0m \n\u001b[1;32m    381\u001b[0m \u001b[38;5;124;03mPlayback/recording can be stopped with a `KeyboardInterrupt`.\u001b[39;00m\n\u001b[0;32m   (...)\u001b[0m\n\u001b[1;32m    392\u001b[0m \n\u001b[1;32m    393\u001b[0m \u001b[38;5;124;03m\"\"\"\u001b[39;00m\n\u001b[1;32m    394\u001b[0m \u001b[38;5;28;01mif\u001b[39;00m _last_callback:\n\u001b[0;32m--> 395\u001b[0m     \u001b[38;5;28;01mreturn\u001b[39;00m \u001b[43m_last_callback\u001b[49m\u001b[38;5;241;43m.\u001b[39;49m\u001b[43mwait\u001b[49m\u001b[43m(\u001b[49m\u001b[43mignore_errors\u001b[49m\u001b[43m)\u001b[49m\n",
      "File \u001b[0;32m/opt/miniconda3/envs/amt/lib/python3.12/site-packages/sounddevice.py:2628\u001b[0m, in \u001b[0;36m_CallbackContext.wait\u001b[0;34m(self, ignore_errors)\u001b[0m\n\u001b[1;32m   2622\u001b[0m \u001b[38;5;250m\u001b[39m\u001b[38;5;124;03m\"\"\"Wait for finished_callback.\u001b[39;00m\n\u001b[1;32m   2623\u001b[0m \n\u001b[1;32m   2624\u001b[0m \u001b[38;5;124;03mCan be interrupted with a KeyboardInterrupt.\u001b[39;00m\n\u001b[1;32m   2625\u001b[0m \n\u001b[1;32m   2626\u001b[0m \u001b[38;5;124;03m\"\"\"\u001b[39;00m\n\u001b[1;32m   2627\u001b[0m \u001b[38;5;28;01mtry\u001b[39;00m:\n\u001b[0;32m-> 2628\u001b[0m     \u001b[38;5;28;43mself\u001b[39;49m\u001b[38;5;241;43m.\u001b[39;49m\u001b[43mevent\u001b[49m\u001b[38;5;241;43m.\u001b[39;49m\u001b[43mwait\u001b[49m\u001b[43m(\u001b[49m\u001b[43m)\u001b[49m\n\u001b[1;32m   2629\u001b[0m \u001b[38;5;28;01mfinally\u001b[39;00m:\n\u001b[1;32m   2630\u001b[0m     \u001b[38;5;28mself\u001b[39m\u001b[38;5;241m.\u001b[39mstream\u001b[38;5;241m.\u001b[39mclose(ignore_errors)\n",
      "File \u001b[0;32m/opt/miniconda3/envs/amt/lib/python3.12/threading.py:655\u001b[0m, in \u001b[0;36mEvent.wait\u001b[0;34m(self, timeout)\u001b[0m\n\u001b[1;32m    653\u001b[0m signaled \u001b[38;5;241m=\u001b[39m \u001b[38;5;28mself\u001b[39m\u001b[38;5;241m.\u001b[39m_flag\n\u001b[1;32m    654\u001b[0m \u001b[38;5;28;01mif\u001b[39;00m \u001b[38;5;129;01mnot\u001b[39;00m signaled:\n\u001b[0;32m--> 655\u001b[0m     signaled \u001b[38;5;241m=\u001b[39m \u001b[38;5;28;43mself\u001b[39;49m\u001b[38;5;241;43m.\u001b[39;49m\u001b[43m_cond\u001b[49m\u001b[38;5;241;43m.\u001b[39;49m\u001b[43mwait\u001b[49m\u001b[43m(\u001b[49m\u001b[43mtimeout\u001b[49m\u001b[43m)\u001b[49m\n\u001b[1;32m    656\u001b[0m \u001b[38;5;28;01mreturn\u001b[39;00m signaled\n",
      "File \u001b[0;32m/opt/miniconda3/envs/amt/lib/python3.12/threading.py:355\u001b[0m, in \u001b[0;36mCondition.wait\u001b[0;34m(self, timeout)\u001b[0m\n\u001b[1;32m    353\u001b[0m \u001b[38;5;28;01mtry\u001b[39;00m:    \u001b[38;5;66;03m# restore state no matter what (e.g., KeyboardInterrupt)\u001b[39;00m\n\u001b[1;32m    354\u001b[0m     \u001b[38;5;28;01mif\u001b[39;00m timeout \u001b[38;5;129;01mis\u001b[39;00m \u001b[38;5;28;01mNone\u001b[39;00m:\n\u001b[0;32m--> 355\u001b[0m         \u001b[43mwaiter\u001b[49m\u001b[38;5;241;43m.\u001b[39;49m\u001b[43macquire\u001b[49m\u001b[43m(\u001b[49m\u001b[43m)\u001b[49m\n\u001b[1;32m    356\u001b[0m         gotit \u001b[38;5;241m=\u001b[39m \u001b[38;5;28;01mTrue\u001b[39;00m\n\u001b[1;32m    357\u001b[0m     \u001b[38;5;28;01melse\u001b[39;00m:\n",
      "\u001b[0;31mKeyboardInterrupt\u001b[0m: "
     ]
    }
   ],
   "source": [
    "import random\n",
    "import os\n",
    "import numpy as np\n",
    "from midiutil import MIDIFile\n",
    "import pretty_midi\n",
    "import soundfile as sf\n",
    "import sounddevice as sd\n",
    "from midi2audio import FluidSynth\n",
    "\n",
    "\n",
    "def generate_chord_progression():\n",
    "    progressions = [\n",
    "        [\"C\", \"G\", \"Am\", \"F\"],\n",
    "        [\"C\", \"Am\", \"F\", \"G\"],\n",
    "        [\"G\", \"Em\", \"C\", \"D\"],\n",
    "        [\"Am\", \"F\", \"C\", \"G\"],\n",
    "    ]\n",
    "    return random.choice(progressions)\n",
    "\n",
    "\n",
    "def generate_midi(filename, chord_progression, instrument_program):\n",
    "    midi = MIDIFile(1)\n",
    "    track = 0\n",
    "    time = 0\n",
    "    midi.addTrackName(track, time, \"Sample Track\")\n",
    "    midi.addTempo(track, time, 120)\n",
    "\n",
    "    channel = 0\n",
    "    volume = 100\n",
    "    duration = 1  # 1 beat per chord\n",
    "\n",
    "    # Set the instrument\n",
    "    midi.addProgramChange(track, channel, time, instrument_program)\n",
    "\n",
    "    chord_to_note = {\"C\": 60, \"G\": 67, \"Am\": 69, \"F\": 65, \"Em\": 64, \"D\": 62}\n",
    "\n",
    "    for chord in chord_progression:\n",
    "        base_note = chord_to_note[chord]\n",
    "        midi.addNote(track, channel, base_note, time, duration, volume)\n",
    "        midi.addNote(\n",
    "            track,\n",
    "            channel,\n",
    "            base_note + (3 if \"m\" in chord else 4),\n",
    "            time,\n",
    "            duration,\n",
    "            volume,\n",
    "        )\n",
    "        midi.addNote(track, channel, base_note + 7, time, duration, volume)\n",
    "        time += 1\n",
    "\n",
    "    with open(filename, \"wb\") as output_file:\n",
    "        midi.writeFile(output_file)\n",
    "\n",
    "\n",
    "def midi_to_wav(midi_file, wav_file):\n",
    "    FluidSynth().midi_to_audio(midi_file, wav_file)\n",
    "\n",
    "\n",
    "def play_audio(file_path):\n",
    "    data, fs = sf.read(file_path, dtype=\"float32\")\n",
    "    sd.play(data, fs)\n",
    "    sd.wait()\n",
    "\n",
    "\n",
    "def check_instrument_sounds():\n",
    "    instruments = [\n",
    "        (\"Acoustic Grand Piano\", 0),\n",
    "        (\"Electric Guitar (clean)\", 27),\n",
    "        (\"Violin\", 40),\n",
    "        (\"Flute\", 73),\n",
    "    ]\n",
    "    chord_progression = generate_chord_progression()\n",
    "\n",
    "    for instrument_name, program_number in instruments:\n",
    "        print(f\"\\nGenerating and playing sound for {instrument_name}...\")\n",
    "        midi_file = f'temp_{instrument_name.replace(\" \", \"_\")}.mid'\n",
    "        wav_file = f'temp_{instrument_name.replace(\" \", \"_\")}.wav'\n",
    "\n",
    "        generate_midi(midi_file, chord_progression, program_number)\n",
    "        midi_to_wav(midi_file, wav_file)\n",
    "\n",
    "        print(f\"Playing {instrument_name} sound...\")\n",
    "        play_audio(wav_file)\n",
    "\n",
    "        os.remove(midi_file)\n",
    "        os.remove(wav_file)\n",
    "\n",
    "        input(\"Press Enter to continue to the next instrument...\")\n",
    "\n",
    "\n",
    "# Run the instrument sound check\n",
    "check_instrument_sounds()"
   ]
  }
 ],
 "metadata": {
  "kernelspec": {
   "display_name": "amt",
   "language": "python",
   "name": "python3"
  },
  "language_info": {
   "codemirror_mode": {
    "name": "ipython",
    "version": 3
   },
   "file_extension": ".py",
   "mimetype": "text/x-python",
   "name": "python",
   "nbconvert_exporter": "python",
   "pygments_lexer": "ipython3",
   "version": "3.12.5"
  }
 },
 "nbformat": 4,
 "nbformat_minor": 2
}
